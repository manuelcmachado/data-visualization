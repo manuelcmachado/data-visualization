{
    "metadata": {
        "kernelspec": {
            "name": "SQL",
            "display_name": "SQL",
            "language": "sql"
        },
        "language_info": {
            "name": "sql",
            "version": ""
        },
        "extensions": {
            "azuredatastudio": {
                "version": 1,
                "views": []
            }
        }
    },
    "nbformat_minor": 2,
    "nbformat": 4,
    "cells": [
        {
            "cell_type": "markdown",
            "source": [
                "## Restoring a Database in a Linux System\n",
                "\n",
                "This notebook ilustrates restoring a database in a Linux System. In this case the database is being restored in a **Linux Ubuntu 20.04.4 LTS System** to a SQL SERVER 2019 Database using **Azure Data Studio**. First, inspect which database files your backup files has."
            ],
            "metadata": {
                "azdata_cell_guid": "883a7db8-a920-49b2-a4b0-1dcf3a0896b9"
            },
            "attachments": {}
        },
        {
            "cell_type": "code",
            "source": [
                "RESTORE FILELISTONLY FROM DISK = '/home/mmachado/Downloads/AdventureWorks2019.bak'\n",
                "GO"
            ],
            "metadata": {
                "azdata_cell_guid": "4444d761-0b8c-4cff-9b3c-9fbfc1e203c3"
            },
            "outputs": [
                {
                    "output_type": "display_data",
                    "data": {
                        "text/html": "(2 rows affected)"
                    },
                    "metadata": {}
                },
                {
                    "output_type": "display_data",
                    "data": {
                        "text/html": "Total execution time: 00:00:00.074"
                    },
                    "metadata": {}
                },
                {
                    "output_type": "execute_result",
                    "execution_count": 2,
                    "data": {
                        "application/vnd.dataresource+json": {
                            "schema": {
                                "fields": [
                                    {
                                        "name": "LogicalName"
                                    },
                                    {
                                        "name": "PhysicalName"
                                    },
                                    {
                                        "name": "Type"
                                    },
                                    {
                                        "name": "FileGroupName"
                                    },
                                    {
                                        "name": "Size"
                                    },
                                    {
                                        "name": "MaxSize"
                                    },
                                    {
                                        "name": "FileId"
                                    },
                                    {
                                        "name": "CreateLSN"
                                    },
                                    {
                                        "name": "DropLSN"
                                    },
                                    {
                                        "name": "UniqueId"
                                    },
                                    {
                                        "name": "ReadOnlyLSN"
                                    },
                                    {
                                        "name": "ReadWriteLSN"
                                    },
                                    {
                                        "name": "BackupSizeInBytes"
                                    },
                                    {
                                        "name": "SourceBlockSize"
                                    },
                                    {
                                        "name": "FileGroupId"
                                    },
                                    {
                                        "name": "LogGroupGUID"
                                    },
                                    {
                                        "name": "DifferentialBaseLSN"
                                    },
                                    {
                                        "name": "DifferentialBaseGUID"
                                    },
                                    {
                                        "name": "IsReadOnly"
                                    },
                                    {
                                        "name": "IsPresent"
                                    },
                                    {
                                        "name": "TDEThumbprint"
                                    },
                                    {
                                        "name": "SnapshotUrl"
                                    }
                                ]
                            },
                            "data": [
                                {
                                    "0": "AdventureWorks2017",
                                    "1": "C:\\Program Files\\Microsoft SQL Server\\MSSQL15.SQL2019\\MSSQL\\DATA\\AdventureWorks2019.mdf",
                                    "2": "D",
                                    "3": "PRIMARY",
                                    "4": "276824064",
                                    "5": "35184372080640",
                                    "6": "1",
                                    "7": "0",
                                    "8": "0",
                                    "9": "733940a8-d019-4dc5-80f8-13e869a504ec",
                                    "10": "0",
                                    "11": "0",
                                    "12": "215678976",
                                    "13": "4096",
                                    "14": "1",
                                    "15": "NULL",
                                    "16": "39000002354400001",
                                    "17": "a44f7d23-17a1-49be-bc7e-f5d68e5fddc4",
                                    "18": "0",
                                    "19": "1",
                                    "20": "NULL",
                                    "21": "NULL"
                                },
                                {
                                    "0": "AdventureWorks2017_log",
                                    "1": "C:\\Program Files\\Microsoft SQL Server\\MSSQL15.SQL2019\\MSSQL\\DATA\\AdventureWorks2019_log.ldf",
                                    "2": "L",
                                    "3": "NULL",
                                    "4": "75497472",
                                    "5": "2199023255552",
                                    "6": "2",
                                    "7": "0",
                                    "8": "0",
                                    "9": "b166c891-e43f-42da-87fc-8d7f34022b35",
                                    "10": "0",
                                    "11": "0",
                                    "12": "0",
                                    "13": "4096",
                                    "14": "0",
                                    "15": "NULL",
                                    "16": "0",
                                    "17": "00000000-0000-0000-0000-000000000000",
                                    "18": "0",
                                    "19": "1",
                                    "20": "NULL",
                                    "21": "NULL"
                                }
                            ]
                        },
                        "text/html": "<table><tr><th>LogicalName</th><th>PhysicalName</th><th>Type</th><th>FileGroupName</th><th>Size</th><th>MaxSize</th><th>FileId</th><th>CreateLSN</th><th>DropLSN</th><th>UniqueId</th><th>ReadOnlyLSN</th><th>ReadWriteLSN</th><th>BackupSizeInBytes</th><th>SourceBlockSize</th><th>FileGroupId</th><th>LogGroupGUID</th><th>DifferentialBaseLSN</th><th>DifferentialBaseGUID</th><th>IsReadOnly</th><th>IsPresent</th><th>TDEThumbprint</th><th>SnapshotUrl</th></tr><tr><td>AdventureWorks2017</td><td>C:\\Program Files\\Microsoft SQL Server\\MSSQL15.SQL2019\\MSSQL\\DATA\\AdventureWorks2019.mdf</td><td>D</td><td>PRIMARY</td><td>276824064</td><td>35184372080640</td><td>1</td><td>0</td><td>0</td><td>733940a8-d019-4dc5-80f8-13e869a504ec</td><td>0</td><td>0</td><td>215678976</td><td>4096</td><td>1</td><td>NULL</td><td>39000002354400001</td><td>a44f7d23-17a1-49be-bc7e-f5d68e5fddc4</td><td>0</td><td>1</td><td>NULL</td><td>NULL</td></tr><tr><td>AdventureWorks2017_log</td><td>C:\\Program Files\\Microsoft SQL Server\\MSSQL15.SQL2019\\MSSQL\\DATA\\AdventureWorks2019_log.ldf</td><td>L</td><td>NULL</td><td>75497472</td><td>2199023255552</td><td>2</td><td>0</td><td>0</td><td>b166c891-e43f-42da-87fc-8d7f34022b35</td><td>0</td><td>0</td><td>0</td><td>4096</td><td>0</td><td>NULL</td><td>0</td><td>00000000-0000-0000-0000-000000000000</td><td>0</td><td>1</td><td>NULL</td><td>NULL</td></tr></table>"
                    },
                    "metadata": {}
                }
            ],
            "execution_count": 2
        },
        {
            "cell_type": "markdown",
            "source": [
                "The database and log file names in the _LogicalName_ column is the information that will be used to restore the database, which is the step that will be done next."
            ],
            "metadata": {
                "azdata_cell_guid": "830590c5-7998-49dc-873f-b2310d401f34"
            },
            "attachments": {}
        },
        {
            "cell_type": "code",
            "source": [
                "-- Restore the database\n",
                "RESTORE DATABASE AdventureWorks2019  \n",
                "FROM DISK = '/home/mmachado/Downloads/AdventureWorks2019.bak'\n",
                "WITH MOVE 'AdventureWorks2017' TO '/var/opt/mssql/data/AdventureWorks2019.mdf',  \n",
                "MOVE 'AdventureWorks2017_log' TO '/var/opt/mssql/data/AdventureWorks2019.ldf'    \n",
                "GO"
            ],
            "metadata": {
                "azdata_cell_guid": "f55e3503-8440-4c03-be6e-be193f23c9b4"
            },
            "outputs": [
                {
                    "output_type": "display_data",
                    "data": {
                        "text/html": "Processed 26344 pages for database 'AdventureWorks2019', file 'AdventureWorks2017' on file 1."
                    },
                    "metadata": {}
                },
                {
                    "output_type": "display_data",
                    "data": {
                        "text/html": "Processed 2 pages for database 'AdventureWorks2019', file 'AdventureWorks2017_log' on file 1."
                    },
                    "metadata": {}
                },
                {
                    "output_type": "display_data",
                    "data": {
                        "text/html": "RESTORE DATABASE successfully processed 26346 pages in 0.193 seconds (1066.446 MB/sec)."
                    },
                    "metadata": {}
                },
                {
                    "output_type": "display_data",
                    "data": {
                        "text/html": "Total execution time: 00:00:01.134"
                    },
                    "metadata": {}
                }
            ],
            "execution_count": 1
        },
        {
            "cell_type": "markdown",
            "source": [
                "From the messages above we can see that the database was sucessufuly restored.  You may check whether the datadatabase was restored or not by refreshing the Databases folder under Servers. Also we may use **T-SQL** do use the just restored database."
            ],
            "metadata": {
                "azdata_cell_guid": "783945a1-072a-4836-9560-0bd268d42b31"
            },
            "attachments": {}
        },
        {
            "cell_type": "code",
            "source": [
                "USE AdventureWorks2019\n",
                "GO"
            ],
            "metadata": {
                "azdata_cell_guid": "cfadfffd-9adf-4da4-a92d-4eece6534c25",
                "tags": []
            },
            "outputs": [
                {
                    "output_type": "display_data",
                    "data": {
                        "text/html": "Commands completed successfully."
                    },
                    "metadata": {}
                },
                {
                    "output_type": "display_data",
                    "data": {
                        "text/html": "Total execution time: 00:00:00.001"
                    },
                    "metadata": {}
                }
            ],
            "execution_count": 4
        },
        {
            "cell_type": "code",
            "source": [
                "SELECT TOP 10 * FROM [Person].[CountryRegion];"
            ],
            "metadata": {
                "azdata_cell_guid": "e8f491f7-ddb6-44c0-80d3-41d03d2b52b3"
            },
            "outputs": [
                {
                    "output_type": "display_data",
                    "data": {
                        "text/html": "(10 rows affected)"
                    },
                    "metadata": {}
                },
                {
                    "output_type": "display_data",
                    "data": {
                        "text/html": "Total execution time: 00:00:00.002"
                    },
                    "metadata": {}
                },
                {
                    "output_type": "execute_result",
                    "execution_count": 6,
                    "data": {
                        "application/vnd.dataresource+json": {
                            "schema": {
                                "fields": [
                                    {
                                        "name": "CountryRegionCode"
                                    },
                                    {
                                        "name": "Name"
                                    },
                                    {
                                        "name": "ModifiedDate"
                                    }
                                ]
                            },
                            "data": [
                                {
                                    "0": "AD",
                                    "1": "Andorra",
                                    "2": "2008-04-30 00:00:00.000"
                                },
                                {
                                    "0": "AE",
                                    "1": "United Arab Emirates",
                                    "2": "2008-04-30 00:00:00.000"
                                },
                                {
                                    "0": "AF",
                                    "1": "Afghanistan",
                                    "2": "2008-04-30 00:00:00.000"
                                },
                                {
                                    "0": "AG",
                                    "1": "Antigua and Barbuda",
                                    "2": "2008-04-30 00:00:00.000"
                                },
                                {
                                    "0": "AI",
                                    "1": "Anguilla",
                                    "2": "2008-04-30 00:00:00.000"
                                },
                                {
                                    "0": "AL",
                                    "1": "Albania",
                                    "2": "2008-04-30 00:00:00.000"
                                },
                                {
                                    "0": "AM",
                                    "1": "Armenia",
                                    "2": "2008-04-30 00:00:00.000"
                                },
                                {
                                    "0": "AN",
                                    "1": "Netherlands Antilles",
                                    "2": "2008-04-30 00:00:00.000"
                                },
                                {
                                    "0": "AO",
                                    "1": "Angola",
                                    "2": "2008-04-30 00:00:00.000"
                                },
                                {
                                    "0": "AQ",
                                    "1": "Antarctica",
                                    "2": "2008-04-30 00:00:00.000"
                                }
                            ]
                        },
                        "text/html": "<table><tr><th>CountryRegionCode</th><th>Name</th><th>ModifiedDate</th></tr><tr><td>AD</td><td>Andorra</td><td>2008-04-30 00:00:00.000</td></tr><tr><td>AE</td><td>United Arab Emirates</td><td>2008-04-30 00:00:00.000</td></tr><tr><td>AF</td><td>Afghanistan</td><td>2008-04-30 00:00:00.000</td></tr><tr><td>AG</td><td>Antigua and Barbuda</td><td>2008-04-30 00:00:00.000</td></tr><tr><td>AI</td><td>Anguilla</td><td>2008-04-30 00:00:00.000</td></tr><tr><td>AL</td><td>Albania</td><td>2008-04-30 00:00:00.000</td></tr><tr><td>AM</td><td>Armenia</td><td>2008-04-30 00:00:00.000</td></tr><tr><td>AN</td><td>Netherlands Antilles</td><td>2008-04-30 00:00:00.000</td></tr><tr><td>AO</td><td>Angola</td><td>2008-04-30 00:00:00.000</td></tr><tr><td>AQ</td><td>Antarctica</td><td>2008-04-30 00:00:00.000</td></tr></table>"
                    },
                    "metadata": {}
                }
            ],
            "execution_count": 6
        },
        {
            "cell_type": "markdown",
            "source": [
                "Now that we got the database working, let's restore the Datawarehouse."
            ],
            "metadata": {
                "azdata_cell_guid": "9d04183a-70af-4686-b5a2-ae3c464539f3"
            },
            "attachments": {}
        },
        {
            "cell_type": "code",
            "source": [
                "RESTORE FILELISTONLY FROM DISK = '/home/mmachado/Downloads/AdventureWorksDW2019.bak'\n",
                "GO"
            ],
            "metadata": {
                "azdata_cell_guid": "c0a9be38-6ce7-4c0b-bd1d-e9171de21121"
            },
            "outputs": [
                {
                    "output_type": "display_data",
                    "data": {
                        "text/html": "(2 rows affected)"
                    },
                    "metadata": {}
                },
                {
                    "output_type": "display_data",
                    "data": {
                        "text/html": "Total execution time: 00:00:00.038"
                    },
                    "metadata": {}
                },
                {
                    "output_type": "execute_result",
                    "execution_count": 8,
                    "data": {
                        "application/vnd.dataresource+json": {
                            "schema": {
                                "fields": [
                                    {
                                        "name": "LogicalName"
                                    },
                                    {
                                        "name": "PhysicalName"
                                    },
                                    {
                                        "name": "Type"
                                    },
                                    {
                                        "name": "FileGroupName"
                                    },
                                    {
                                        "name": "Size"
                                    },
                                    {
                                        "name": "MaxSize"
                                    },
                                    {
                                        "name": "FileId"
                                    },
                                    {
                                        "name": "CreateLSN"
                                    },
                                    {
                                        "name": "DropLSN"
                                    },
                                    {
                                        "name": "UniqueId"
                                    },
                                    {
                                        "name": "ReadOnlyLSN"
                                    },
                                    {
                                        "name": "ReadWriteLSN"
                                    },
                                    {
                                        "name": "BackupSizeInBytes"
                                    },
                                    {
                                        "name": "SourceBlockSize"
                                    },
                                    {
                                        "name": "FileGroupId"
                                    },
                                    {
                                        "name": "LogGroupGUID"
                                    },
                                    {
                                        "name": "DifferentialBaseLSN"
                                    },
                                    {
                                        "name": "DifferentialBaseGUID"
                                    },
                                    {
                                        "name": "IsReadOnly"
                                    },
                                    {
                                        "name": "IsPresent"
                                    },
                                    {
                                        "name": "TDEThumbprint"
                                    },
                                    {
                                        "name": "SnapshotUrl"
                                    }
                                ]
                            },
                            "data": [
                                {
                                    "0": "AdventureWorksDW2017",
                                    "1": "C:\\Program Files\\Microsoft SQL Server\\MSSQL15.SQL2019\\MSSQL\\DATA\\AdventureWorksDW2019.mdf",
                                    "2": "D",
                                    "3": "PRIMARY",
                                    "4": "142606336",
                                    "5": "35184372080640",
                                    "6": "1",
                                    "7": "0",
                                    "8": "0",
                                    "9": "ec171a79-717d-45f2-87eb-2641c1a7747f",
                                    "10": "0",
                                    "11": "0",
                                    "12": "99942400",
                                    "13": "4096",
                                    "14": "1",
                                    "15": "NULL",
                                    "16": "37000000281000075",
                                    "17": "5597a456-a0f4-4977-b604-2bb5567b3e5c",
                                    "18": "0",
                                    "19": "1",
                                    "20": "NULL",
                                    "21": "NULL"
                                },
                                {
                                    "0": "AdventureWorksDW2017_log",
                                    "1": "C:\\Program Files\\Microsoft SQL Server\\MSSQL15.SQL2019\\MSSQL\\DATA\\AdventureWorksDW2019_log.ldf",
                                    "2": "L",
                                    "3": "NULL",
                                    "4": "75497472",
                                    "5": "2199023255552",
                                    "6": "2",
                                    "7": "0",
                                    "8": "0",
                                    "9": "1d8596c4-83c4-44fc-baad-e43d40486199",
                                    "10": "0",
                                    "11": "0",
                                    "12": "0",
                                    "13": "4096",
                                    "14": "0",
                                    "15": "NULL",
                                    "16": "0",
                                    "17": "00000000-0000-0000-0000-000000000000",
                                    "18": "0",
                                    "19": "1",
                                    "20": "NULL",
                                    "21": "NULL"
                                }
                            ]
                        },
                        "text/html": "<table><tr><th>LogicalName</th><th>PhysicalName</th><th>Type</th><th>FileGroupName</th><th>Size</th><th>MaxSize</th><th>FileId</th><th>CreateLSN</th><th>DropLSN</th><th>UniqueId</th><th>ReadOnlyLSN</th><th>ReadWriteLSN</th><th>BackupSizeInBytes</th><th>SourceBlockSize</th><th>FileGroupId</th><th>LogGroupGUID</th><th>DifferentialBaseLSN</th><th>DifferentialBaseGUID</th><th>IsReadOnly</th><th>IsPresent</th><th>TDEThumbprint</th><th>SnapshotUrl</th></tr><tr><td>AdventureWorksDW2017</td><td>C:\\Program Files\\Microsoft SQL Server\\MSSQL15.SQL2019\\MSSQL\\DATA\\AdventureWorksDW2019.mdf</td><td>D</td><td>PRIMARY</td><td>142606336</td><td>35184372080640</td><td>1</td><td>0</td><td>0</td><td>ec171a79-717d-45f2-87eb-2641c1a7747f</td><td>0</td><td>0</td><td>99942400</td><td>4096</td><td>1</td><td>NULL</td><td>37000000281000075</td><td>5597a456-a0f4-4977-b604-2bb5567b3e5c</td><td>0</td><td>1</td><td>NULL</td><td>NULL</td></tr><tr><td>AdventureWorksDW2017_log</td><td>C:\\Program Files\\Microsoft SQL Server\\MSSQL15.SQL2019\\MSSQL\\DATA\\AdventureWorksDW2019_log.ldf</td><td>L</td><td>NULL</td><td>75497472</td><td>2199023255552</td><td>2</td><td>0</td><td>0</td><td>1d8596c4-83c4-44fc-baad-e43d40486199</td><td>0</td><td>0</td><td>0</td><td>4096</td><td>0</td><td>NULL</td><td>0</td><td>00000000-0000-0000-0000-000000000000</td><td>0</td><td>1</td><td>NULL</td><td>NULL</td></tr></table>"
                    },
                    "metadata": {}
                }
            ],
            "execution_count": 8
        },
        {
            "cell_type": "code",
            "source": [
                "-- Restore the Datawarehouse\n",
                "RESTORE DATABASE AdventureWorksDW2019  \n",
                "FROM DISK = '/home/mmachado/Downloads/AdventureWorksDW2019.bak'\n",
                "WITH MOVE 'AdventureWorksDW2017' TO '/var/opt/mssql/data/AdventureWorksDW2019.mdf',  \n",
                "MOVE 'AdventureWorksDW2017_log' TO '/var/opt/mssql/data/AdventureWorksDW2019.ldf'    \n",
                "GO"
            ],
            "metadata": {
                "azdata_cell_guid": "25c6f159-46be-4187-887f-c0f8b293660a",
                "tags": []
            },
            "outputs": [
                {
                    "output_type": "display_data",
                    "data": {
                        "text/html": "Processed 12216 pages for database 'AdventureWorksDW2019', file 'AdventureWorksDW2017' on file 1."
                    },
                    "metadata": {}
                },
                {
                    "output_type": "display_data",
                    "data": {
                        "text/html": "Processed 2 pages for database 'AdventureWorksDW2019', file 'AdventureWorksDW2017_log' on file 1."
                    },
                    "metadata": {}
                },
                {
                    "output_type": "display_data",
                    "data": {
                        "text/html": "RESTORE DATABASE successfully processed 12218 pages in 0.121 seconds (788.836 MB/sec)."
                    },
                    "metadata": {}
                },
                {
                    "output_type": "display_data",
                    "data": {
                        "text/html": "Total execution time: 00:00:01.066"
                    },
                    "metadata": {}
                }
            ],
            "execution_count": 10
        },
        {
            "cell_type": "markdown",
            "source": [
                "Check if the Datawarehouse was successfully restored. Procede as we did it with the database."
            ],
            "metadata": {
                "azdata_cell_guid": "43680607-289a-4ce3-a751-c980fce20e79"
            },
            "attachments": {}
        },
        {
            "cell_type": "code",
            "source": [
                "USE AdventureWorksDW2019\n",
                "GO"
            ],
            "metadata": {
                "azdata_cell_guid": "41ce5ee7-6c20-4a01-8637-827b29c29b9a"
            },
            "outputs": [
                {
                    "output_type": "display_data",
                    "data": {
                        "text/html": "Commands completed successfully."
                    },
                    "metadata": {}
                },
                {
                    "output_type": "display_data",
                    "data": {
                        "text/html": "Total execution time: 00:00:00.004"
                    },
                    "metadata": {}
                }
            ],
            "execution_count": 11
        },
        {
            "cell_type": "code",
            "source": [
                "SELECT TOP 10 * FROM AdventureWorksDW2019.dbo.DimGeography;"
            ],
            "metadata": {
                "azdata_cell_guid": "4fdfe6b0-1642-458e-968f-b8b2c6acb33b"
            },
            "outputs": [
                {
                    "output_type": "display_data",
                    "data": {
                        "text/html": "(10 rows affected)"
                    },
                    "metadata": {}
                },
                {
                    "output_type": "display_data",
                    "data": {
                        "text/html": "Total execution time: 00:00:00.011"
                    },
                    "metadata": {}
                },
                {
                    "output_type": "execute_result",
                    "execution_count": 12,
                    "data": {
                        "application/vnd.dataresource+json": {
                            "schema": {
                                "fields": [
                                    {
                                        "name": "GeographyKey"
                                    },
                                    {
                                        "name": "City"
                                    },
                                    {
                                        "name": "StateProvinceCode"
                                    },
                                    {
                                        "name": "StateProvinceName"
                                    },
                                    {
                                        "name": "CountryRegionCode"
                                    },
                                    {
                                        "name": "EnglishCountryRegionName"
                                    },
                                    {
                                        "name": "SpanishCountryRegionName"
                                    },
                                    {
                                        "name": "FrenchCountryRegionName"
                                    },
                                    {
                                        "name": "PostalCode"
                                    },
                                    {
                                        "name": "SalesTerritoryKey"
                                    },
                                    {
                                        "name": "IpAddressLocator"
                                    }
                                ]
                            },
                            "data": [
                                {
                                    "0": "1",
                                    "1": "Alexandria",
                                    "2": "NSW",
                                    "3": "New South Wales",
                                    "4": "AU",
                                    "5": "Australia",
                                    "6": "Australia",
                                    "7": "Australie",
                                    "8": "2015",
                                    "9": "9",
                                    "10": "198.51.100.2"
                                },
                                {
                                    "0": "2",
                                    "1": "Coffs Harbour",
                                    "2": "NSW",
                                    "3": "New South Wales",
                                    "4": "AU",
                                    "5": "Australia",
                                    "6": "Australia",
                                    "7": "Australie",
                                    "8": "2450",
                                    "9": "9",
                                    "10": "198.51.100.3"
                                },
                                {
                                    "0": "3",
                                    "1": "Darlinghurst",
                                    "2": "NSW",
                                    "3": "New South Wales",
                                    "4": "AU",
                                    "5": "Australia",
                                    "6": "Australia",
                                    "7": "Australie",
                                    "8": "2010",
                                    "9": "9",
                                    "10": "198.51.100.4"
                                },
                                {
                                    "0": "4",
                                    "1": "Goulburn",
                                    "2": "NSW",
                                    "3": "New South Wales",
                                    "4": "AU",
                                    "5": "Australia",
                                    "6": "Australia",
                                    "7": "Australie",
                                    "8": "2580",
                                    "9": "9",
                                    "10": "198.51.100.5"
                                },
                                {
                                    "0": "5",
                                    "1": "Lane Cove",
                                    "2": "NSW",
                                    "3": "New South Wales",
                                    "4": "AU",
                                    "5": "Australia",
                                    "6": "Australia",
                                    "7": "Australie",
                                    "8": "1597",
                                    "9": "9",
                                    "10": "198.51.100.6"
                                },
                                {
                                    "0": "6",
                                    "1": "Lavender Bay",
                                    "2": "NSW",
                                    "3": "New South Wales",
                                    "4": "AU",
                                    "5": "Australia",
                                    "6": "Australia",
                                    "7": "Australie",
                                    "8": "2060",
                                    "9": "9",
                                    "10": "198.51.100.7"
                                },
                                {
                                    "0": "7",
                                    "1": "Malabar",
                                    "2": "NSW",
                                    "3": "New South Wales",
                                    "4": "AU",
                                    "5": "Australia",
                                    "6": "Australia",
                                    "7": "Australie",
                                    "8": "2036",
                                    "9": "9",
                                    "10": "198.51.100.8"
                                },
                                {
                                    "0": "8",
                                    "1": "Matraville",
                                    "2": "NSW",
                                    "3": "New South Wales",
                                    "4": "AU",
                                    "5": "Australia",
                                    "6": "Australia",
                                    "7": "Australie",
                                    "8": "2036",
                                    "9": "9",
                                    "10": "198.51.100.9"
                                },
                                {
                                    "0": "9",
                                    "1": "Milsons Point",
                                    "2": "NSW",
                                    "3": "New South Wales",
                                    "4": "AU",
                                    "5": "Australia",
                                    "6": "Australia",
                                    "7": "Australie",
                                    "8": "2061",
                                    "9": "9",
                                    "10": "198.51.100.10"
                                },
                                {
                                    "0": "10",
                                    "1": "Newcastle",
                                    "2": "NSW",
                                    "3": "New South Wales",
                                    "4": "AU",
                                    "5": "Australia",
                                    "6": "Australia",
                                    "7": "Australie",
                                    "8": "2300",
                                    "9": "9",
                                    "10": "198.51.100.11"
                                }
                            ]
                        },
                        "text/html": "<table><tr><th>GeographyKey</th><th>City</th><th>StateProvinceCode</th><th>StateProvinceName</th><th>CountryRegionCode</th><th>EnglishCountryRegionName</th><th>SpanishCountryRegionName</th><th>FrenchCountryRegionName</th><th>PostalCode</th><th>SalesTerritoryKey</th><th>IpAddressLocator</th></tr><tr><td>1</td><td>Alexandria</td><td>NSW</td><td>New South Wales</td><td>AU</td><td>Australia</td><td>Australia</td><td>Australie</td><td>2015</td><td>9</td><td>198.51.100.2</td></tr><tr><td>2</td><td>Coffs Harbour</td><td>NSW</td><td>New South Wales</td><td>AU</td><td>Australia</td><td>Australia</td><td>Australie</td><td>2450</td><td>9</td><td>198.51.100.3</td></tr><tr><td>3</td><td>Darlinghurst</td><td>NSW</td><td>New South Wales</td><td>AU</td><td>Australia</td><td>Australia</td><td>Australie</td><td>2010</td><td>9</td><td>198.51.100.4</td></tr><tr><td>4</td><td>Goulburn</td><td>NSW</td><td>New South Wales</td><td>AU</td><td>Australia</td><td>Australia</td><td>Australie</td><td>2580</td><td>9</td><td>198.51.100.5</td></tr><tr><td>5</td><td>Lane Cove</td><td>NSW</td><td>New South Wales</td><td>AU</td><td>Australia</td><td>Australia</td><td>Australie</td><td>1597</td><td>9</td><td>198.51.100.6</td></tr><tr><td>6</td><td>Lavender Bay</td><td>NSW</td><td>New South Wales</td><td>AU</td><td>Australia</td><td>Australia</td><td>Australie</td><td>2060</td><td>9</td><td>198.51.100.7</td></tr><tr><td>7</td><td>Malabar</td><td>NSW</td><td>New South Wales</td><td>AU</td><td>Australia</td><td>Australia</td><td>Australie</td><td>2036</td><td>9</td><td>198.51.100.8</td></tr><tr><td>8</td><td>Matraville</td><td>NSW</td><td>New South Wales</td><td>AU</td><td>Australia</td><td>Australia</td><td>Australie</td><td>2036</td><td>9</td><td>198.51.100.9</td></tr><tr><td>9</td><td>Milsons Point</td><td>NSW</td><td>New South Wales</td><td>AU</td><td>Australia</td><td>Australia</td><td>Australie</td><td>2061</td><td>9</td><td>198.51.100.10</td></tr><tr><td>10</td><td>Newcastle</td><td>NSW</td><td>New South Wales</td><td>AU</td><td>Australia</td><td>Australia</td><td>Australie</td><td>2300</td><td>9</td><td>198.51.100.11</td></tr></table>"
                    },
                    "metadata": {}
                }
            ],
            "execution_count": 12
        }
    ]
}
